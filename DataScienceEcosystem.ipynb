{
 "cells": [
  {
   "cell_type": "markdown",
   "id": "319a5518-1f76-45ca-9331-3e3497e590ec",
   "metadata": {},
   "source": [
    "<h1>Data Science Tools and Ecosystem</h1>"
   ]
  },
  {
   "cell_type": "markdown",
   "id": "a74f0b8a-fe0e-467d-b930-cbe60ff1dbf0",
   "metadata": {},
   "source": [
    "<p>In this notebook, Data Science Tools and Ecosystem are summarized.</p>"
   ]
  },
  {
   "cell_type": "markdown",
   "id": "4a6da076-8f58-4717-9042-200eb52d9657",
   "metadata": {},
   "source": [
    "# Objectives:\n"
   ]
  },
  {
   "cell_type": "markdown",
   "id": "678af98b-9b8f-45dd-aee3-db7ba6e6695a",
   "metadata": {},
   "source": [
    "* Popular languages in Data Science:\n",
    "* Data Science Tools\n",
    "* Commonly used libraries\n",
    "* Arithmetic expressions in Python.  \n",
    "\n",
    "## Author:\n",
    "Fede Albesa\n"
   ]
  },
  {
   "cell_type": "code",
   "execution_count": null,
   "id": "353196d0-bb63-4055-91c1-94cd575dced0",
   "metadata": {},
   "outputs": [],
   "source": []
  },
  {
   "cell_type": "markdown",
   "id": "3997d8ba-796b-4dc4-9a47-f9354297a52c",
   "metadata": {},
   "source": [
    "Some of the popular languages that Data Scientists use are:\n",
    "1) Python\n",
    "2) R\n",
    "3) SQL\n",
    "\n",
    "5) Julia"
   ]
  },
  {
   "cell_type": "markdown",
   "id": "ec75c0b2-8ed2-40e9-92c5-33f99597d46f",
   "metadata": {},
   "source": [
    "# Some of the commonly used libraries used by Data Scientists include:\n",
    "\n",
    "1) ggplot\n",
    "2) Plotly\n",
    "3) lattice\n",
    "4) leaflet\n"
   ]
  },
  {
   "cell_type": "markdown",
   "id": "d0b3c9d5-74bf-44fd-858e-c121e44fc2cc",
   "metadata": {},
   "source": [
    "# Data Science Tools\n",
    "| Data Science Tools    |\n",
    "| -------- | \n",
    "| RStudio  | \n",
    "| Apache Spark | \n",
    "| TensorFlow | \n"
   ]
  },
  {
   "cell_type": "markdown",
   "id": "fe765952-3b7e-469a-a59a-95de9adbe566",
   "metadata": {},
   "source": [
    "<h3>Below are a few examples of evaluating arithmetic expressions in Python.</h3>\n"
   ]
  },
  {
   "cell_type": "markdown",
   "id": "7e51cb0b-f09c-4fc1-9c41-c9472b0a8004",
   "metadata": {},
   "source": [
    "1) **, for exponentiation.\n",
    "2) //, for integer division\n",
    "3) %, for modulus"
   ]
  },
  {
   "cell_type": "code",
   "execution_count": 3,
   "id": "25867f74-3d04-4be2-95b2-a9fc89633791",
   "metadata": {},
   "outputs": [
    {
     "data": {
      "text/plain": [
       "17"
      ]
     },
     "execution_count": 3,
     "metadata": {},
     "output_type": "execute_result"
    }
   ],
   "source": [
    "#This a simple arithmetic expression to mutiply then add integers\n",
    "\n",
    "(3*4)+5"
   ]
  },
  {
   "cell_type": "code",
   "execution_count": null,
   "id": "e26c895b-0395-436b-bff4-379d8e6e0763",
   "metadata": {},
   "outputs": [],
   "source": []
  }
 ],
 "metadata": {
  "kernelspec": {
   "display_name": "Python 3 (ipykernel)",
   "language": "python",
   "name": "python3"
  },
  "language_info": {
   "codemirror_mode": {
    "name": "ipython",
    "version": 3
   },
   "file_extension": ".py",
   "mimetype": "text/x-python",
   "name": "python",
   "nbconvert_exporter": "python",
   "pygments_lexer": "ipython3",
   "version": "3.8.18"
  }
 },
 "nbformat": 4,
 "nbformat_minor": 5
}
